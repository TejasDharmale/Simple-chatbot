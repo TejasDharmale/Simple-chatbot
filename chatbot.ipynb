{
 "cells": [
  {
   "cell_type": "code",
   "execution_count": null,
   "metadata": {},
   "outputs": [],
   "source": [
    "# Define a dictionary with predefined responses\n",
    "responses = {\n",
    "    \"hi\": \"Hello there! How can I assist you today?\",\n",
    "    \"how are you\": \"I'm a bot, so I don't have feelings, but I'm functioning properly!\",\n",
    "    \"bye\": \"Goodbye! Have a great day!\",\n",
    "    \"help\": \"Sure, I can help you. What do you need assistance with?\",\n",
    "    \"what's your name\": \"I'm ChatGPT, your virtual assistant. How can I help you today?\",\n",
    "    \"what can you do\": \"I can assist with a wide range of tasks, from answering questions to helping you learn new things. Just let me know what you need!\",\n",
    "    \"tell me a joke\": \"Why don't scientists trust atoms? Because they make up everything!\",\n",
    "    \"what is the weather like\": \"I'm unable to check the weather right now, but you can easily find this information on a weather website or app.\",\n",
    "    \"what is your favorite color\": \"I don't have personal preferences, but I can tell you about the psychology of colors if you're interested!\",\n",
    "    \"can you learn\": \"I don't learn in the traditional sense, but I can process and understand a lot of information to help answer your questions.\",\n",
    "    \"where are you from\": \"I was created by OpenAI, an AI research lab based in San Francisco.\",\n",
    "    \"how old are you\": \"I don't have an age, but my training data includes information up to 2023.\",\n",
    "    \"can you play music\": \"I can't play music directly, but I can recommend some great songs or artists for you!\",\n",
    "    \"how do you work\": \"I process text input using machine learning algorithms to understand and respond to your questions and commands.\"\n",
    "}\n",
    "\n",
    "\n",
    "# Function to get the bot response\n",
    "def get_bot_response(user_input):\n",
    "    # Make the input lowercase to match the dictionary keys\n",
    "    user_input = user_input.lower()\n",
    "\n",
    "    # Return the matching response if it exists, otherwise return a default response\n",
    "    return responses.get(user_input, \"I'm not sure how to respond to that. Can you try asking something else?\")\n",
    "\n",
    "# Main chat loop\n",
    "while True:\n",
    "    user_input = input(\"You: \")\n",
    "    if user_input.lower() == \"quit\":\n",
    "        print(\"Bot: Goodbye!\")\n",
    "        break\n",
    "\n",
    "    response = get_bot_response(user_input)\n",
    "    print(f\"Bot: {response}\")"
   ]
  }
 ],
 "metadata": {
  "language_info": {
   "name": "python"
  }
 },
 "nbformat": 4,
 "nbformat_minor": 2
}
